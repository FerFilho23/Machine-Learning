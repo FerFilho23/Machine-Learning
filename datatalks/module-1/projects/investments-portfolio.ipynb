{
 "cells": [
  {
   "cell_type": "markdown",
   "id": "e133d5cc",
   "metadata": {},
   "source": [
    "# Investments Portfolio"
   ]
  },
  {
   "cell_type": "code",
   "execution_count": 13,
   "id": "f1c60ea3",
   "metadata": {},
   "outputs": [
    {
     "name": "stdout",
     "output_type": "stream",
     "text": [
      "Requirement already satisfied: alpha_vantage in /opt/miniconda3/envs/ml-zoomcamp/lib/python3.11/site-packages (3.0.0)\n",
      "Requirement already satisfied: aiohttp in /opt/miniconda3/envs/ml-zoomcamp/lib/python3.11/site-packages (from alpha_vantage) (3.12.15)\n",
      "Requirement already satisfied: requests in /opt/miniconda3/envs/ml-zoomcamp/lib/python3.11/site-packages (from alpha_vantage) (2.32.5)\n",
      "Requirement already satisfied: aiohappyeyeballs>=2.5.0 in /opt/miniconda3/envs/ml-zoomcamp/lib/python3.11/site-packages (from aiohttp->alpha_vantage) (2.6.1)\n",
      "Requirement already satisfied: aiosignal>=1.4.0 in /opt/miniconda3/envs/ml-zoomcamp/lib/python3.11/site-packages (from aiohttp->alpha_vantage) (1.4.0)\n",
      "Requirement already satisfied: attrs>=17.3.0 in /opt/miniconda3/envs/ml-zoomcamp/lib/python3.11/site-packages (from aiohttp->alpha_vantage) (24.3.0)\n",
      "Requirement already satisfied: frozenlist>=1.1.1 in /opt/miniconda3/envs/ml-zoomcamp/lib/python3.11/site-packages (from aiohttp->alpha_vantage) (1.7.0)\n",
      "Requirement already satisfied: multidict<7.0,>=4.5 in /opt/miniconda3/envs/ml-zoomcamp/lib/python3.11/site-packages (from aiohttp->alpha_vantage) (6.6.4)\n",
      "Requirement already satisfied: propcache>=0.2.0 in /opt/miniconda3/envs/ml-zoomcamp/lib/python3.11/site-packages (from aiohttp->alpha_vantage) (0.3.2)\n",
      "Requirement already satisfied: yarl<2.0,>=1.17.0 in /opt/miniconda3/envs/ml-zoomcamp/lib/python3.11/site-packages (from aiohttp->alpha_vantage) (1.20.1)\n",
      "Requirement already satisfied: idna>=2.0 in /opt/miniconda3/envs/ml-zoomcamp/lib/python3.11/site-packages (from yarl<2.0,>=1.17.0->aiohttp->alpha_vantage) (3.7)\n",
      "Requirement already satisfied: typing-extensions>=4.2 in /opt/miniconda3/envs/ml-zoomcamp/lib/python3.11/site-packages (from aiosignal>=1.4.0->aiohttp->alpha_vantage) (4.15.0)\n",
      "Requirement already satisfied: charset_normalizer<4,>=2 in /opt/miniconda3/envs/ml-zoomcamp/lib/python3.11/site-packages (from requests->alpha_vantage) (3.3.2)\n",
      "Requirement already satisfied: urllib3<3,>=1.21.1 in /opt/miniconda3/envs/ml-zoomcamp/lib/python3.11/site-packages (from requests->alpha_vantage) (2.5.0)\n",
      "Requirement already satisfied: certifi>=2017.4.17 in /opt/miniconda3/envs/ml-zoomcamp/lib/python3.11/site-packages (from requests->alpha_vantage) (2025.8.3)\n",
      "Requirement already satisfied: openpyxl in /opt/miniconda3/envs/ml-zoomcamp/lib/python3.11/site-packages (3.1.5)\n",
      "Requirement already satisfied: et-xmlfile in /opt/miniconda3/envs/ml-zoomcamp/lib/python3.11/site-packages (from openpyxl) (2.0.0)\n",
      "Collecting python-dotenv\n",
      "  Downloading python_dotenv-1.1.1-py3-none-any.whl.metadata (24 kB)\n",
      "Downloading python_dotenv-1.1.1-py3-none-any.whl (20 kB)\n",
      "Installing collected packages: python-dotenv\n",
      "Successfully installed python-dotenv-1.1.1\n"
     ]
    }
   ],
   "source": [
    "!pip install alpha_vantage\n",
    "!pip install openpyxl\n",
    "!pip install python-dotenv"
   ]
  },
  {
   "cell_type": "code",
   "execution_count": 15,
   "id": "ce37c994",
   "metadata": {},
   "outputs": [],
   "source": [
    "import os\n",
    "from dotenv import load_dotenv\n",
    "from alpha_vantage.timeseries import TimeSeries\n",
    "import pandas as pd"
   ]
  },
  {
   "cell_type": "code",
   "execution_count": 16,
   "id": "2b3ff142",
   "metadata": {},
   "outputs": [
    {
     "data": {
      "text/html": [
       "<div>\n",
       "<style scoped>\n",
       "    .dataframe tbody tr th:only-of-type {\n",
       "        vertical-align: middle;\n",
       "    }\n",
       "\n",
       "    .dataframe tbody tr th {\n",
       "        vertical-align: top;\n",
       "    }\n",
       "\n",
       "    .dataframe thead th {\n",
       "        text-align: right;\n",
       "    }\n",
       "</style>\n",
       "<table border=\"1\" class=\"dataframe\">\n",
       "  <thead>\n",
       "    <tr style=\"text-align: right;\">\n",
       "      <th></th>\n",
       "      <th>Ativos</th>\n",
       "      <th>Início</th>\n",
       "    </tr>\n",
       "  </thead>\n",
       "  <tbody>\n",
       "    <tr>\n",
       "      <th>0</th>\n",
       "      <td>ITUB4</td>\n",
       "      <td>10000</td>\n",
       "    </tr>\n",
       "    <tr>\n",
       "      <th>1</th>\n",
       "      <td>ABEV3</td>\n",
       "      <td>10000</td>\n",
       "    </tr>\n",
       "    <tr>\n",
       "      <th>2</th>\n",
       "      <td>VALE3</td>\n",
       "      <td>10000</td>\n",
       "    </tr>\n",
       "    <tr>\n",
       "      <th>3</th>\n",
       "      <td>BBDC3</td>\n",
       "      <td>10000</td>\n",
       "    </tr>\n",
       "  </tbody>\n",
       "</table>\n",
       "</div>"
      ],
      "text/plain": [
       "  Ativos  Início\n",
       "0  ITUB4   10000\n",
       "1  ABEV3   10000\n",
       "2  VALE3   10000\n",
       "3  BBDC3   10000"
      ]
     },
     "metadata": {},
     "output_type": "display_data"
    }
   ],
   "source": [
    "portfolio = pd.read_excel('portfolio.xlsx')\n",
    "display(portfolio)"
   ]
  },
  {
   "cell_type": "code",
   "execution_count": 17,
   "id": "019905d7",
   "metadata": {},
   "outputs": [],
   "source": [
    "# Load variables from .env file\n",
    "load_dotenv()\n",
    "\n",
    "# Get the API key securely\n",
    "api_key = os.getenv(\"ALPHAVANTAGE_API_KEY\")"
   ]
  },
  {
   "cell_type": "code",
   "execution_count": 20,
   "id": "14e955bb",
   "metadata": {},
   "outputs": [
    {
     "name": "stdout",
     "output_type": "stream",
     "text": [
      "                     1. open  2. high  3. low  4. close  5. volume\n",
      "date                                                              \n",
      "2025-09-19 19:59:00   245.69   245.70  245.67  245.6900     2231.0\n",
      "2025-09-19 19:58:00   245.66   245.69  245.65  245.6899     6927.0\n",
      "2025-09-19 19:57:00   245.66   245.67  245.65  245.6500      684.0\n",
      "2025-09-19 19:56:00   245.67   245.69  245.67  245.6700      732.0\n",
      "2025-09-19 19:55:00   245.66   245.69  245.65  245.6900     1095.0\n",
      "{'1. Information': 'Intraday (1min) open, high, low, close prices and volume', '2. Symbol': 'AAPL', '3. Last Refreshed': '2025-09-19 19:59:00', '4. Interval': '1min', '5. Output Size': 'Compact', '6. Time Zone': 'US/Eastern'}\n"
     ]
    }
   ],
   "source": [
    "ts = TimeSeries(key=api_key, output_format='pandas')\n",
    "\n",
    "data, meta_data = ts.get_intraday(symbol='AAPL', interval='1min', outputsize='compact')\n",
    "\n",
    "print(data.head())\n",
    "print(meta_data)\n"
   ]
  }
 ],
 "metadata": {
  "kernelspec": {
   "display_name": "ml-zoomcamp",
   "language": "python",
   "name": "python3"
  },
  "language_info": {
   "codemirror_mode": {
    "name": "ipython",
    "version": 3
   },
   "file_extension": ".py",
   "mimetype": "text/x-python",
   "name": "python",
   "nbconvert_exporter": "python",
   "pygments_lexer": "ipython3",
   "version": "3.11.13"
  }
 },
 "nbformat": 4,
 "nbformat_minor": 5
}
