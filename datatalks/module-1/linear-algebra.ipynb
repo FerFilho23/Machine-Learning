{
 "cells": [
  {
   "cell_type": "markdown",
   "id": "41224c8d",
   "metadata": {},
   "source": [
    "# Linear Algebra"
   ]
  },
  {
   "cell_type": "code",
   "execution_count": null,
   "id": "644db40c",
   "metadata": {},
   "outputs": [],
   "source": [
    "import numpy as np"
   ]
  },
  {
   "cell_type": "markdown",
   "id": "7d102fd4",
   "metadata": {},
   "source": [
    "## Vector Operations"
   ]
  },
  {
   "cell_type": "code",
   "execution_count": 5,
   "id": "8d3643d1",
   "metadata": {},
   "outputs": [
    {
     "name": "stdout",
     "output_type": "stream",
     "text": [
      "[2 4 6 8] [1 3 5 7]\n"
     ]
    }
   ],
   "source": [
    "u = np.array([2, 4, 6, 8])\n",
    "v = np.array([1, 3, 5, 7])\n",
    "\n",
    "print(u, v)"
   ]
  },
  {
   "cell_type": "code",
   "execution_count": 8,
   "id": "6e9c54b6",
   "metadata": {},
   "outputs": [
    {
     "name": "stdout",
     "output_type": "stream",
     "text": [
      "Addition: [ 3  7 11 15]\n",
      "Subtraction: [1 1 1 1]\n",
      "Scalar Multiplication: [ 4  8 12 16]\n",
      "Scalar Division: [1. 2. 3. 4.]\n"
     ]
    }
   ],
   "source": [
    "# Addition\n",
    "print(\"Addition:\", u + v)\n",
    "\n",
    "# Subtraction\n",
    "print(\"Subtraction:\", u - v)\n",
    "\n",
    "# Scalar Multiplication\n",
    "print(\"Scalar Multiplication:\", 2 * u)\n",
    "\n",
    "# Scalar Division\n",
    "print(\"Scalar Division:\", u / 2)"
   ]
  },
  {
   "cell_type": "markdown",
   "id": "95f40712",
   "metadata": {},
   "source": [
    "## Multiplication"
   ]
  },
  {
   "cell_type": "code",
   "execution_count": 13,
   "id": "77ed5f75",
   "metadata": {},
   "outputs": [
    {
     "name": "stdout",
     "output_type": "stream",
     "text": [
      "Dot Product: 100\n",
      "Dot Product (alternative): 100\n",
      "Dot Product (manual): 100\n"
     ]
    }
   ],
   "source": [
    "# Vector Multiplication (Dot Product)\n",
    "print(\"Dot Product:\", np.dot(u, v))\n",
    "\n",
    "print(\"Dot Product (alternative):\", u.dot(v))\n",
    "\n",
    "print(\"Dot Product (manual):\", sum(u_i * v_i for u_i, v_i in zip(u, v)))"
   ]
  },
  {
   "cell_type": "code",
   "execution_count": 21,
   "id": "163bb001",
   "metadata": {},
   "outputs": [
    {
     "name": "stdout",
     "output_type": "stream",
     "text": [
      "U Matrix:\n",
      " [[ 1  2  3  4]\n",
      " [ 5  6  7  8]\n",
      " [ 9 10 11 12]]\n",
      "U shape: (3, 4)\n",
      "v shape: (4,)\n",
      "Matrix-Vector Multiplication: [ 50 114 178]\n",
      "Matrix-Vector Multiplication (alternative): [ 50 114 178]\n",
      "Matrix-Vector Multiplication (manual): [np.int64(50), np.int64(114), np.int64(178)]\n",
      "Multiplication shape: (3,)\n"
     ]
    }
   ],
   "source": [
    "# Matrix Vector Multiplication\n",
    "U = np.array([[1, 2, 3, 4],\n",
    "              [5, 6, 7, 8],\n",
    "              [9, 10, 11, 12]])\n",
    "\n",
    "print(\"U Matrix:\\n\", U)\n",
    "print(\"U shape:\", U.shape)\n",
    "print(\"v shape:\", v.shape)\n",
    "\n",
    "print(\"Matrix-Vector Multiplication:\", U.dot(v))\n",
    "print(\"Matrix-Vector Multiplication (alternative):\", np.dot(U, v))\n",
    "print(\"Matrix-Vector Multiplication (manual):\", [sum(U_i * v_i for U_i, v_i in zip(U_row, v)) for U_row in U])\n",
    "print(\"Multiplication shape:\", U.dot(v).shape)"
   ]
  },
  {
   "cell_type": "code",
   "execution_count": 22,
   "id": "d71a1148",
   "metadata": {},
   "outputs": [
    {
     "name": "stdout",
     "output_type": "stream",
     "text": [
      "V Matrix:\n",
      " [[1 2]\n",
      " [3 4]\n",
      " [5 6]\n",
      " [7 8]]\n",
      "V shape: (4, 2)\n",
      "Matrix-Matrix Multiplication:\n",
      " [[ 50  60]\n",
      " [114 140]\n",
      " [178 220]]\n",
      "Matrix-Matrix Multiplication (alternative):\n",
      " [[ 50  60]\n",
      " [114 140]\n",
      " [178 220]]\n",
      "Matrix-Matrix Multiplication (manual):\n",
      " [[np.int64(50), np.int64(60)], [np.int64(114), np.int64(140)], [np.int64(178), np.int64(220)]]\n",
      "Multiplication shape: (3, 2)\n"
     ]
    }
   ],
   "source": [
    "# Matrix matrix Multiplication\n",
    "V = np.array([[1, 2],\n",
    "              [3, 4],\n",
    "              [5, 6],\n",
    "              [7, 8]])\n",
    "\n",
    "print(\"V Matrix:\\n\", V)\n",
    "print(\"V shape:\", V.shape)\n",
    "\n",
    "print(\"Matrix-Matrix Multiplication:\\n\", U.dot(V))\n",
    "print(\"Matrix-Matrix Multiplication (alternative):\\n\", np.dot(U, V))\n",
    "print(\"Matrix-Matrix Multiplication (manual):\\n\", [[sum(U_i * V_ij for U_i, V_ij in zip(U_row, V_col)) for V_col in V.T] for U_row in U])\n",
    "print(\"Multiplication shape:\", U.dot(V).shape)"
   ]
  },
  {
   "cell_type": "markdown",
   "id": "40d16312",
   "metadata": {},
   "source": [
    "## Identity Matrix"
   ]
  },
  {
   "cell_type": "code",
   "execution_count": 24,
   "id": "8fa8212d",
   "metadata": {},
   "outputs": [],
   "source": [
    "I = np.eye(3)  # Identity matrix of size 3x3"
   ]
  },
  {
   "cell_type": "code",
   "execution_count": 26,
   "id": "c405908b",
   "metadata": {},
   "outputs": [
    {
     "data": {
      "text/plain": [
       "array([[1., 2., 3.],\n",
       "       [4., 5., 6.],\n",
       "       [7., 8., 9.]])"
      ]
     },
     "execution_count": 26,
     "metadata": {},
     "output_type": "execute_result"
    }
   ],
   "source": [
    "V = np.array([[1, 2, 3],\n",
    "              [4, 5, 6],\n",
    "              [7, 8, 9]])\n",
    "\n",
    "V.dot(I)  # Should return V unchanged"
   ]
  },
  {
   "cell_type": "markdown",
   "id": "609618cf",
   "metadata": {},
   "source": [
    "## Matrix Inverse"
   ]
  },
  {
   "cell_type": "code",
   "execution_count": 36,
   "id": "027f6430",
   "metadata": {},
   "outputs": [
    {
     "name": "stdout",
     "output_type": "stream",
     "text": [
      "Original Matrix:\n",
      " [[4 7]\n",
      " [2 6]]\n",
      "\n",
      "Inverse Matrix:\n",
      " [[ 0.6 -0.7]\n",
      " [-0.2  0.4]]\n",
      "\n",
      "Identity Check (Matrix * Inverse):\n",
      " [[ 1.00000000e+00 -2.22044605e-16]\n",
      " [ 0.00000000e+00  1.00000000e+00]]\n"
     ]
    }
   ],
   "source": [
    "# Define a 2x2 matrix\n",
    "matrix = np.array([[4, 7],\n",
    "                   [2, 6]])\n",
    "\n",
    "# Calculate the inverse\n",
    "inverse_matrix = np.linalg.inv(matrix)\n",
    "\n",
    "print(\"Original Matrix:\\n\", matrix)\n",
    "print(\"\\nInverse Matrix:\\n\", inverse_matrix)\n",
    "\n",
    "# Verify the inversion\n",
    "identity_check = np.matmul(inverse_matrix, matrix)\n",
    "print(\"\\nIdentity Check (Matrix * Inverse):\\n\", identity_check)"
   ]
  }
 ],
 "metadata": {
  "kernelspec": {
   "display_name": "ml-zoomcamp",
   "language": "python",
   "name": "python3"
  },
  "language_info": {
   "codemirror_mode": {
    "name": "ipython",
    "version": 3
   },
   "file_extension": ".py",
   "mimetype": "text/x-python",
   "name": "python",
   "nbconvert_exporter": "python",
   "pygments_lexer": "ipython3",
   "version": "3.11.13"
  }
 },
 "nbformat": 4,
 "nbformat_minor": 5
}
